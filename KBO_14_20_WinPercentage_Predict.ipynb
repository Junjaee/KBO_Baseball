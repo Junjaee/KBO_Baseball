{
  "nbformat": 4,
  "nbformat_minor": 0,
  "metadata": {
    "colab": {
      "name": "KBO_14_20_WinPercentage_Predict.ipynb",
      "provenance": [],
      "collapsed_sections": [],
      "authorship_tag": "ABX9TyP0bO3Pcf7UwIZSzB3FQWh+",
      "include_colab_link": true
    },
    "kernelspec": {
      "name": "python3",
      "display_name": "Python 3"
    }
  },
  "cells": [
    {
      "cell_type": "markdown",
      "metadata": {
        "id": "view-in-github",
        "colab_type": "text"
      },
      "source": [
        "<a href=\"https://colab.research.google.com/github/Neverenvy1/KBO_Baseball/blob/main/KBO_14_20_WinPercentage_Predict.ipynb\" target=\"_parent\"><img src=\"https://colab.research.google.com/assets/colab-badge.svg\" alt=\"Open In Colab\"/></a>"
      ]
    },
    {
      "cell_type": "code",
      "metadata": {
        "id": "lJ9ozsqqNXpA"
      },
      "source": [
        "import pandas as pd\r\n",
        "import numpy as np\r\n",
        "import matplotlib.pyplot as plt\r\n",
        "import seaborn as sns"
      ],
      "execution_count": 1,
      "outputs": []
    },
    {
      "cell_type": "code",
      "metadata": {
        "id": "5hSF5NhlPgWl"
      },
      "source": [
        "url = 'https://raw.githubusercontent.com/Neverenvy1/KBO_Baseball/main/KBO_Team_14_20_total_01.csv' \r\n",
        "df = pd.read_csv(url) \r\n",
        "# 데이터 세트는 Pandas Dataframe에 이제 저장됩니다.\r\n",
        "# print(df.head)"
      ],
      "execution_count": 2,
      "outputs": []
    },
    {
      "cell_type": "code",
      "metadata": {
        "id": "oYXEtOdNPggq"
      },
      "source": [
        "data = df.drop(['WP','W','L','TWPA','RANK'], axis = 1)\r\n",
        "target = df['WP'].to_numpy()"
      ],
      "execution_count": 3,
      "outputs": []
    },
    {
      "cell_type": "code",
      "metadata": {
        "id": "T8YVkI7LPySX"
      },
      "source": [
        "from sklearn.model_selection import train_test_split\r\n",
        "train_input, test_input, train_target, test_target = train_test_split(data, target, test_size=0.2, random_state=42)"
      ],
      "execution_count": 4,
      "outputs": []
    },
    {
      "cell_type": "code",
      "metadata": {
        "colab": {
          "base_uri": "https://localhost:8080/"
        },
        "id": "sv41w94iPyUy",
        "outputId": "e9340804-728a-444b-ceb3-9ae7df158c21"
      },
      "source": [
        "from sklearn.model_selection import cross_validate\r\n",
        "from sklearn.ensemble import RandomForestRegressor\r\n",
        "\r\n",
        "rf = RandomForestRegressor(n_jobs=-1, random_state=42)\r\n",
        "scores = cross_validate(rf, train_input, train_target, return_train_score=True, n_jobs=-1)\r\n",
        "\r\n",
        "print(np.mean(scores['train_score']), np.mean(scores['test_score']))"
      ],
      "execution_count": 5,
      "outputs": [
        {
          "output_type": "stream",
          "text": [
            "0.9738226513010663 0.7733511200377183\n"
          ],
          "name": "stdout"
        }
      ]
    },
    {
      "cell_type": "code",
      "metadata": {
        "colab": {
          "base_uri": "https://localhost:8080/"
        },
        "id": "5fQZyImlPyW7",
        "outputId": "fb5423fc-0faf-42c5-86f2-6e7f666a04aa"
      },
      "source": [
        "rf.fit(train_input, train_target)\r\n",
        "print(np.round(rf.feature_importances_, decimals=3))"
      ],
      "execution_count": 6,
      "outputs": [
        {
          "output_type": "stream",
          "text": [
            "[0.085 0.041 0.002 0.005 0.001 0.002 0.024 0.002 0.002 0.002 0.003 0.002\n",
            " 0.005 0.003 0.003 0.002 0.001 0.003 0.001 0.002 0.007 0.026 0.03  0.044\n",
            " 0.017 0.004 0.003 0.004 0.002 0.003 0.001 0.006 0.003 0.003 0.003 0.003\n",
            " 0.001 0.    0.001 0.003 0.001 0.002 0.198 0.004 0.031 0.408]\n"
          ],
          "name": "stdout"
        }
      ]
    },
    {
      "cell_type": "code",
      "metadata": {
        "colab": {
          "base_uri": "https://localhost:8080/"
        },
        "id": "MPiTizt6PyY2",
        "outputId": "74181f8a-fe28-4699-b55f-4041e599fe32"
      },
      "source": [
        "print(rf.score(test_input, test_target))"
      ],
      "execution_count": 7,
      "outputs": [
        {
          "output_type": "stream",
          "text": [
            "0.6930568415981604\n"
          ],
          "name": "stdout"
        }
      ]
    },
    {
      "cell_type": "code",
      "metadata": {
        "colab": {
          "base_uri": "https://localhost:8080/",
          "height": 637
        },
        "id": "G_HKSD_TQtwK",
        "outputId": "0bac4086-53dd-4fb5-c7b5-04ba658cd7d5"
      },
      "source": [
        "%matplotlib inline\r\n",
        "\r\n",
        "ftr_importances_values = rf.feature_importances_\r\n",
        "ftr_importances = pd.Series(ftr_importances_values, index = data.columns)\r\n",
        "ftr_top10 = ftr_importances.sort_values(ascending=False)[:10]\r\n",
        "\r\n",
        "plt.figure(figsize=(16,12))\r\n",
        "plt.title('Feature Importances')\r\n",
        "sns.barplot(x=ftr_top10, y=ftr_top10.index)\r\n",
        "plt.show()"
      ],
      "execution_count": 8,
      "outputs": [
        {
          "output_type": "display_data",
          "data": {
            "image/png": "[encoded data removed]",
            "text/plain": [
              "<Figure size 1152x864 with 1 Axes>"
            ]
          },
          "metadata": {
            "tags": [],
            "needs_background": "light"
          }
        }
      ]
    },
    {
      "cell_type": "markdown",
      "metadata": {
        "id": "rsRJzrXzVwn9"
      },
      "source": [
        "### **XGBoost**"
      ]
    },
    {
      "cell_type": "code",
      "metadata": {
        "colab": {
          "base_uri": "https://localhost:8080/"
        },
        "id": "bvt71uShV_5I",
        "outputId": "870fac46-dcce-421f-88bf-edc23f0341f3"
      },
      "source": [
        "from xgboost import XGBRegressor\r\n",
        "\r\n",
        "xgb = XGBRegressor(tree_method='hist', random_state=42)\r\n",
        "scores = cross_validate(xgb, train_input, train_target, return_train_score=True, n_jobs=-1)\r\n",
        "\r\n",
        "print(np.mean(scores['train_score']), np.mean(scores['test_score']))"
      ],
      "execution_count": 9,
      "outputs": [
        {
          "output_type": "stream",
          "text": [
            "0.9998868548368671 0.8061350348218415\n"
          ],
          "name": "stdout"
        }
      ]
    },
    {
      "cell_type": "code",
      "metadata": {
        "colab": {
          "base_uri": "https://localhost:8080/"
        },
        "id": "7lfw270WWAAq",
        "outputId": "4f30889b-e4cf-4e1b-fffb-a66f4619fc3d"
      },
      "source": [
        "xgb.fit(train_input, train_target)"
      ],
      "execution_count": 10,
      "outputs": [
        {
          "output_type": "stream",
          "text": [
            "[15:37:41] WARNING: /workspace/src/objective/regression_obj.cu:152: reg:linear is now deprecated in favor of reg:squarederror.\n"
          ],
          "name": "stdout"
        },
        {
          "output_type": "execute_result",
          "data": {
            "text/plain": [
              "XGBRegressor(base_score=0.5, booster='gbtree', colsample_bylevel=1,\n",
              "             colsample_bynode=1, colsample_bytree=1, gamma=0,\n",
              "             importance_type='gain', learning_rate=0.1, max_delta_step=0,\n",
              "             max_depth=3, min_child_weight=1, missing=None, n_estimators=100,\n",
              "             n_jobs=1, nthread=None, objective='reg:linear', random_state=42,\n",
              "             reg_alpha=0, reg_lambda=1, scale_pos_weight=1, seed=None,\n",
              "             silent=None, subsample=1, tree_method='hist', verbosity=1)"
            ]
          },
          "metadata": {
            "tags": []
          },
          "execution_count": 10
        }
      ]
    },
    {
      "cell_type": "code",
      "metadata": {
        "colab": {
          "base_uri": "https://localhost:8080/"
        },
        "id": "Y3_LT1wmWADe",
        "outputId": "34a892a3-596f-4e94-e0da-9c8fd272c12b"
      },
      "source": [
        "print(np.round(xgb.feature_importances_,3))"
      ],
      "execution_count": 11,
      "outputs": [
        {
          "output_type": "stream",
          "text": [
            "[0.045 0.131 0.003 0.003 0.    0.005 0.003 0.002 0.001 0.004 0.003 0.007\n",
            " 0.002 0.001 0.    0.011 0.005 0.005 0.001 0.    0.001 0.007 0.019 0.14\n",
            " 0.051 0.008 0.002 0.003 0.    0.    0.002 0.003 0.002 0.    0.    0.001\n",
            " 0.001 0.002 0.    0.    0.009 0.002 0.203 0.001 0.078 0.237]\n"
          ],
          "name": "stdout"
        }
      ]
    },
    {
      "cell_type": "code",
      "metadata": {
        "colab": {
          "base_uri": "https://localhost:8080/"
        },
        "id": "GZ1VC--CYG0p",
        "outputId": "987ab514-60e3-4372-ffd6-d6f37434de1e"
      },
      "source": [
        "print(xgb.score(test_input, test_target))"
      ],
      "execution_count": 12,
      "outputs": [
        {
          "output_type": "stream",
          "text": [
            "0.7268820448124753\n"
          ],
          "name": "stdout"
        }
      ]
    },
    {
      "cell_type": "code",
      "metadata": {
        "colab": {
          "base_uri": "https://localhost:8080/",
          "height": 637
        },
        "id": "eFGz-_b-W04p",
        "outputId": "707d1bc8-9f63-4f74-f0dd-8ee10eaeb687"
      },
      "source": [
        "%matplotlib inline\r\n",
        "\r\n",
        "ftr_importances_values = xgb.feature_importances_\r\n",
        "ftr_importances = pd.Series(ftr_importances_values, index = data.columns)\r\n",
        "ftr_top10 = ftr_importances.sort_values(ascending=False)[:10]\r\n",
        "\r\n",
        "plt.figure(figsize=(16,12))\r\n",
        "plt.title('Feature Importances')\r\n",
        "sns.barplot(x=ftr_top10, y=ftr_top10.index)\r\n",
        "plt.show()"
      ],
      "execution_count": 13,
      "outputs": [
        {
          "output_type": "display_data",
          "data": {
            "image/png": "[encoded data removed]",
            "text/plain": [
              "<Figure size 1152x864 with 1 Axes>"
            ]
          },
          "metadata": {
            "tags": [],
            "needs_background": "light"
          }
        }
      ]
    },
    {
      "cell_type": "markdown",
      "metadata": {
        "id": "1rN_krXOVxKQ"
      },
      "source": [
        "### **LightGBM**"
      ]
    },
    {
      "cell_type": "code",
      "metadata": {
        "colab": {
          "base_uri": "https://localhost:8080/"
        },
        "id": "eYj3sLQBW9n9",
        "outputId": "db49f2b1-2a94-41bf-dcce-ddc6d8e1bbf3"
      },
      "source": [
        "from lightgbm import LGBMRegressor\r\n",
        "\r\n",
        "lgb = LGBMRegressor(random_state=42)\r\n",
        "scores = cross_validate(lgb, train_input, train_target, return_train_score=True, n_jobs=-1)\r\n",
        "\r\n",
        "print(np.mean(scores['train_score']), np.mean(scores['test_score']))"
      ],
      "execution_count": 14,
      "outputs": [
        {
          "output_type": "stream",
          "text": [
            "0.9124793230080129 0.7344229572267915\n"
          ],
          "name": "stdout"
        }
      ]
    },
    {
      "cell_type": "code",
      "metadata": {
        "colab": {
          "base_uri": "https://localhost:8080/"
        },
        "id": "M_1XfQDDW9qw",
        "outputId": "6abada28-d924-49d9-d02e-ec71b5d0adee"
      },
      "source": [
        "lgb.fit(train_input, train_target)"
      ],
      "execution_count": 15,
      "outputs": [
        {
          "output_type": "execute_result",
          "data": {
            "text/plain": [
              "LGBMRegressor(boosting_type='gbdt', class_weight=None, colsample_bytree=1.0,\n",
              "              importance_type='split', learning_rate=0.1, max_depth=-1,\n",
              "              min_child_samples=20, min_child_weight=0.001, min_split_gain=0.0,\n",
              "              n_estimators=100, n_jobs=-1, num_leaves=31, objective=None,\n",
              "              random_state=42, reg_alpha=0.0, reg_lambda=0.0, silent=True,\n",
              "              subsample=1.0, subsample_for_bin=200000, subsample_freq=0)"
            ]
          },
          "metadata": {
            "tags": []
          },
          "execution_count": 15
        }
      ]
    },
    {
      "cell_type": "code",
      "metadata": {
        "colab": {
          "base_uri": "https://localhost:8080/"
        },
        "id": "FXqf98TGW9s_",
        "outputId": "cea5c334-7d7d-4d1c-8d9b-a395a2b578b2"
      },
      "source": [
        "print(np.round(lgb.feature_importances_,3))"
      ],
      "execution_count": 16,
      "outputs": [
        {
          "output_type": "stream",
          "text": [
            "[ 1  3  0  0  0  1  0  0  0  7  5  0  2  5  0  2  2  5  0  0  0  5 10  0\n",
            "  3  0  7  0  0  4  9  0  0  0  0  0  0  0  0  0  0  2  5  3 16  3]\n"
          ],
          "name": "stdout"
        }
      ]
    },
    {
      "cell_type": "code",
      "metadata": {
        "colab": {
          "base_uri": "https://localhost:8080/"
        },
        "id": "2yL2_FErYKqb",
        "outputId": "72e14f0f-2b7d-410b-da79-311d5ab4d0df"
      },
      "source": [
        "print(lgb.score(test_input, test_target))"
      ],
      "execution_count": 17,
      "outputs": [
        {
          "output_type": "stream",
          "text": [
            "0.6693175113369192\n"
          ],
          "name": "stdout"
        }
      ]
    },
    {
      "cell_type": "code",
      "metadata": {
        "colab": {
          "base_uri": "https://localhost:8080/",
          "height": 637
        },
        "id": "CxRpxvAOXKxy",
        "outputId": "e5063cc6-e8f2-4b15-9975-a34e3a4e69c9"
      },
      "source": [
        "%matplotlib inline\r\n",
        "\r\n",
        "ftr_importances_values = lgb.feature_importances_\r\n",
        "ftr_importances = pd.Series(ftr_importances_values, index = data.columns)\r\n",
        "ftr_top10 = ftr_importances.sort_values(ascending=False)[:10]\r\n",
        "\r\n",
        "plt.figure(figsize=(16,12))\r\n",
        "plt.title('Feature Importances')\r\n",
        "sns.barplot(x=ftr_top10, y=ftr_top10.index)\r\n",
        "plt.show()"
      ],
      "execution_count": 18,
      "outputs": [
        {
          "output_type": "display_data",
          "data": {
            "image/png": "[encoded data removed]",
            "text/plain": [
              "<Figure size 1152x864 with 1 Axes>"
            ]
          },
          "metadata": {
            "tags": [],
            "needs_background": "light"
          }
        }
      ]
    }
  ]
}